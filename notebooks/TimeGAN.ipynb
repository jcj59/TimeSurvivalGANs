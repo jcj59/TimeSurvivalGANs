{
 "cells": [
  {
   "cell_type": "code",
   "execution_count": 7,
   "id": "66ae223b",
   "metadata": {},
   "outputs": [],
   "source": [
    "# stdlib\n",
    "import os\n",
    "import sys\n",
    "import warnings\n",
    "\n",
    "# synthcity absolute\n",
    "import synthcity.logger as log\n",
    "from synthcity.plugins import Plugins\n",
    "from synthcity.plugins.core.dataloader import TimeSeriesSurvivalDataLoader\n",
    "from synthcity.utils.datasets.time_series.pbc import PBCDataloader\n",
    "from synthcity.utils.serialization import save, load\n",
    "\n",
    "# third party\n",
    "import pandas as pd\n",
    "import numpy as np\n",
    "\n",
    "log.add(sink=sys.stderr, level=\"INFO\")\n",
    "warnings.filterwarnings(\"ignore\")"
   ]
  },
  {
   "cell_type": "code",
   "execution_count": 8,
   "id": "67251301",
   "metadata": {},
   "outputs": [],
   "source": [
    "SYNTHETIC_DATA_COUNT = 500\n",
    "MODEL_OUTPUT_PATH = \"../models/timegan_pbc_model.pkl\"\n",
    "DATA_OUTPUT_PATH = \"../data/pbc_synthetic/synthetic_pbc_data_3.csv\""
   ]
  },
  {
   "cell_type": "code",
   "execution_count": 9,
   "id": "934250b0",
   "metadata": {},
   "outputs": [],
   "source": [
    "def get_pbc_data_loader():\n",
    "    (\n",
    "        static_surv,\n",
    "        temporal_surv,\n",
    "        temporal_surv_horizons,\n",
    "        outcome_surv,\n",
    "    ) = PBCDataloader().load()\n",
    "    T, E = outcome_surv\n",
    "\n",
    "    static_surv_extended = static_surv.copy()\n",
    "\n",
    "    drug_values = []\n",
    "    age_values = []\n",
    "\n",
    "    for patient_df in temporal_surv:\n",
    "        drug_values.append(patient_df[\"drug\"].iloc[0])  # Assuming 'drug' is constant per patient\n",
    "        age_values.append(patient_df[\"age\"].iloc[0])    # Assuming 'age' is constant per patient\n",
    "\n",
    "    static_surv_extended[\"drug\"] = drug_values\n",
    "    static_surv_extended[\"age\"] = age_values\n",
    "\n",
    "    for i in range(len(temporal_surv)):\n",
    "        temporal_surv[i] = temporal_surv[i].drop(columns=[\"drug\", \"age\"])\n",
    "    \n",
    "    horizons = [0.25, 0.5, 0.75]\n",
    "    time_horizons = np.quantile(T, horizons).tolist()\n",
    "\n",
    "    loader = TimeSeriesSurvivalDataLoader(\n",
    "        temporal_data=temporal_surv,\n",
    "        observation_times=temporal_surv_horizons,\n",
    "        static_data=static_surv_extended,\n",
    "        T=T,\n",
    "        E=E,\n",
    "        time_horizons=time_horizons,\n",
    "    )\n",
    "    \n",
    "    return loader, time_horizons"
   ]
  },
  {
   "cell_type": "code",
   "execution_count": 10,
   "id": "87a4f076",
   "metadata": {},
   "outputs": [
    {
     "name": "stdout",
     "output_type": "stream",
     "text": [
      "Loading model from ../models/timegan_pbc_model.pkl\n"
     ]
    }
   ],
   "source": [
    "loader, time_horizons = get_pbc_data_loader()\n",
    "\n",
    "if os.path.exists(MODEL_OUTPUT_PATH):\n",
    "    print(f\"Loading model from {MODEL_OUTPUT_PATH}\")\n",
    "    with open(MODEL_OUTPUT_PATH, \"rb\") as f:\n",
    "        syn_model = load(f.read())\n",
    "else:\n",
    "    print(\"Training new timegan model...\")\n",
    "    syn_model = Plugins().get(\"timegan\")\n",
    "    syn_model.fit(loader)\n",
    "    with open(MODEL_OUTPUT_PATH, \"wb\") as f:\n",
    "        f.write(save(syn_model))\n",
    "    print(f\"Model saved to {MODEL_OUTPUT_PATH}\")"
   ]
  },
  {
   "cell_type": "code",
   "execution_count": 11,
   "id": "be18a375",
   "metadata": {},
   "outputs": [
    {
     "name": "stdout",
     "output_type": "stream",
     "text": [
      "Generating synthetic data...\n"
     ]
    },
    {
     "name": "stderr",
     "output_type": "stream",
     "text": [
      "[2025-05-15T21:52:20.428468-0400][14020][INFO] [seq_time_id] quality loss for constraints ge = 0.0027379257474500207. Remaining 2385. prev length 3161. Original dtype float64.\n",
      "[2025-05-15T21:52:20.428468-0400][14020][INFO] [seq_time_id] quality loss for constraints ge = 0.0027379257474500207. Remaining 2385. prev length 3161. Original dtype float64.\n"
     ]
    },
    {
     "name": "stdout",
     "output_type": "stream",
     "text": [
      "Synthetic dataset saved to ../data/pbc_synthetic/synthetic_pbc_data_3.csv\n"
     ]
    }
   ],
   "source": [
    "print(\"Generating synthetic data...\")\n",
    "synthetic_data = syn_model.generate(count=SYNTHETIC_DATA_COUNT, time_horizons=time_horizons)\n",
    "df_synth = synthetic_data.dataframe()\n",
    "\n",
    "df_synth.to_csv(DATA_OUTPUT_PATH, index=False)\n",
    "print(f\"Synthetic dataset saved to {DATA_OUTPUT_PATH}\")"
   ]
  },
  {
   "cell_type": "code",
   "execution_count": null,
   "id": "0c67e69b",
   "metadata": {},
   "outputs": [],
   "source": []
  }
 ],
 "metadata": {
  "kernelspec": {
   "display_name": "base",
   "language": "python",
   "name": "python3"
  },
  "language_info": {
   "codemirror_mode": {
    "name": "ipython",
    "version": 3
   },
   "file_extension": ".py",
   "mimetype": "text/x-python",
   "name": "python",
   "nbconvert_exporter": "python",
   "pygments_lexer": "ipython3",
   "version": "3.11.5"
  }
 },
 "nbformat": 4,
 "nbformat_minor": 5
}
